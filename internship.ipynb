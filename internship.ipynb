{
 "cells": [
  {
   "cell_type": "markdown",
   "id": "a81187b9",
   "metadata": {},
   "source": [
    "# worksheet_set_1(PYTHON)"
   ]
  },
  {
   "cell_type": "markdown",
   "id": "45ee4825",
   "metadata": {},
   "source": [
    "python program to find the factorial of a number"
   ]
  },
  {
   "cell_type": "code",
   "execution_count": 1,
   "id": "d6c08e48",
   "metadata": {},
   "outputs": [
    {
     "name": "stdout",
     "output_type": "stream",
     "text": [
      "Enter the number:6\n",
      "Factorial of 6 is 720\n"
     ]
    }
   ],
   "source": [
    "# factorial of a number\n",
    "import math\n",
    "def fact(n):\n",
    "    return(math.factorial(n)) \n",
    "num=int(input(\"Enter the number:\"))\n",
    "f=fact(num)\n",
    "print(\"Factorial of\",num,\"is\",f)"
   ]
  },
  {
   "cell_type": "raw",
   "id": "a18c070c",
   "metadata": {},
   "source": [
    "python program to find whether a number is prime or composite"
   ]
  },
  {
   "cell_type": "code",
   "execution_count": 5,
   "id": "59035253",
   "metadata": {},
   "outputs": [
    {
     "name": "stdout",
     "output_type": "stream",
     "text": [
      "Enter any number:3\n",
      "3 number is prime but not composite number\n"
     ]
    }
   ],
   "source": [
    "n=int(input(\"Enter any number:\"))\n",
    "if(n==0 or n==1):\n",
    "    print(n,\"number is niether prime nor composite\")\n",
    "elif n>1:\n",
    "    for i in range(2,n):\n",
    "        if(n%i==0):\n",
    "            print(n,\"is not  prime but composite number\")\n",
    "            break\n",
    "        else:\n",
    "            print(n,\"number is prime but not composite number\")\n",
    "else:\n",
    "    print(\"please enter positive number only\")\n"
   ]
  },
  {
   "cell_type": "code",
   "execution_count": 20,
   "id": "aa521305",
   "metadata": {},
   "outputs": [
    {
     "name": "stdout",
     "output_type": "stream",
     "text": [
      "please enter your text:wow\n",
      "this is palindrome string\n"
     ]
    }
   ],
   "source": [
    "#python program to check whether a given string is palindrome or not\n",
    "\n",
    "st=input(\"please enter your text:\")\n",
    "if(st==st):\n",
    "    print(\"this is palindrome string\")\n",
    "else:\n",
    "    print(\"this is not\")"
   ]
  },
  {
   "cell_type": "code",
   "execution_count": 22,
   "id": "2aff1c37",
   "metadata": {},
   "outputs": [
    {
     "name": "stdout",
     "output_type": "stream",
     "text": [
      "Enter base:10.5\n",
      "Enter height:5.5\n",
      "Enter angle:60\n",
      "Hypotenuse= 11.853269591129697\n"
     ]
    }
   ],
   "source": [
    "# python program to get the third side of right-angled triangle from two given sidem\n",
    "\n",
    "a=float(input(\"Enter base:\"))\n",
    "b=float(input(\"Enter height:\"))\n",
    "x=float(input(\"Enter angle:\"))\n",
    "\n",
    "c=math.sqrt(a**2+b**2)\n",
    "\n",
    "print(\"Hypotenuse=\",c)\n",
    "\n"
   ]
  },
  {
   "cell_type": "code",
   "execution_count": null,
   "id": "c72102d2",
   "metadata": {},
   "outputs": [],
   "source": []
  },
  {
   "cell_type": "code",
   "execution_count": null,
   "id": "6101c1d9",
   "metadata": {},
   "outputs": [],
   "source": []
  }
 ],
 "metadata": {
  "kernelspec": {
   "display_name": "Python 3 (ipykernel)",
   "language": "python",
   "name": "python3"
  },
  "language_info": {
   "codemirror_mode": {
    "name": "ipython",
    "version": 3
   },
   "file_extension": ".py",
   "mimetype": "text/x-python",
   "name": "python",
   "nbconvert_exporter": "python",
   "pygments_lexer": "ipython3",
   "version": "3.9.12"
  }
 },
 "nbformat": 4,
 "nbformat_minor": 5
}
